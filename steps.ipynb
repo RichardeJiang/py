{
 "cells": [
  {
   "cell_type": "code",
   "execution_count": 1,
   "metadata": {},
   "outputs": [],
   "source": [
    "import numpy\n",
    "import emoji\n",
    "from ipywidgets import widgets\n",
    "from IPython.display import display\n",
    "from IPython.display import clear_output\n",
    "import sys"
   ]
  },
  {
   "cell_type": "markdown",
   "metadata": {},
   "source": [
    "This is the beginning part of the EmoChat demo. As you can see here, we are going to use Python 2 to execute our solution."
   ]
  },
  {
   "cell_type": "code",
   "execution_count": 2,
   "metadata": {},
   "outputs": [
    {
     "name": "stdout",
     "output_type": "stream",
     "text": [
      "Now let's get started!\n"
     ]
    }
   ],
   "source": [
    "print \"Now let's get started!\""
   ]
  },
  {
   "cell_type": "markdown",
   "metadata": {},
   "source": [
    "Ever since the first generation of iPhone came out, the use of applications has developed faster than any other period in history. Among them, one particularly interesting aspect is the emergence of emojis and its vast adoptation in instant messaging. With the help of ```emoji``` package in Python, here are one example of commonly-used ones:"
   ]
  },
  {
   "cell_type": "code",
   "execution_count": 3,
   "metadata": {},
   "outputs": [
    {
     "name": "stdout",
     "output_type": "stream",
     "text": [
      "Now we can see you are 😄 haha.\n"
     ]
    }
   ],
   "source": [
    "print emoji.emojize('Now we can see you are :smile: haha.', use_aliases=True)"
   ]
  },
  {
   "cell_type": "markdown",
   "metadata": {},
   "source": [
    "As a matter of fact, the famous \"Face with Tears of Joy\" is even included by the Oxford Dictionary in 2017, so the importance of such expressions as an aid to pure text messages is clearly demonstrated. But sometimes it may take a while for you to find the wanted emoji right? Especially when you have a full list of available choices.\n",
    "\n",
    "So in this project, we aim to build an emoji suggestion model based on the text input. When you have finished inputing your messages and felt like one additional cutie would add more sense, our model will be helpful then.\n",
    "\n",
    "Check out the following examples:"
   ]
  },
  {
   "cell_type": "code",
   "execution_count": 5,
   "metadata": {},
   "outputs": [
    {
     "data": {
      "application/vnd.jupyter.widget-view+json": {
       "model_id": "9ca2b1f267d444ae86fd8105a08bd0a4",
       "version_major": 2,
       "version_minor": 0
      },
      "text/html": [
       "<p>Failed to display Jupyter Widget of type <code>Text</code>.</p>\n",
       "<p>\n",
       "  If you're reading this message in the Jupyter Notebook or JupyterLab Notebook, it may mean\n",
       "  that the widgets JavaScript is still loading. If this message persists, it\n",
       "  likely means that the widgets JavaScript library is either not installed or\n",
       "  not enabled. See the <a href=\"https://ipywidgets.readthedocs.io/en/stable/user_install.html\">Jupyter\n",
       "  Widgets Documentation</a> for setup instructions.\n",
       "</p>\n",
       "<p>\n",
       "  If you're reading this message in another frontend (for example, a static\n",
       "  rendering on GitHub or <a href=\"https://nbviewer.jupyter.org/\">NBViewer</a>),\n",
       "  it may mean that your frontend doesn't currently support widgets.\n",
       "</p>\n"
      ],
      "text/plain": [
       "Text(value=u'')"
      ]
     },
     "metadata": {},
     "output_type": "display_data"
    },
    {
     "data": {
      "application/vnd.jupyter.widget-view+json": {
       "model_id": "72579f73bf714a09a87c4c7ac329b8a7",
       "version_major": 2,
       "version_minor": 0
      },
      "text/html": [
       "<p>Failed to display Jupyter Widget of type <code>Button</code>.</p>\n",
       "<p>\n",
       "  If you're reading this message in the Jupyter Notebook or JupyterLab Notebook, it may mean\n",
       "  that the widgets JavaScript is still loading. If this message persists, it\n",
       "  likely means that the widgets JavaScript library is either not installed or\n",
       "  not enabled. See the <a href=\"https://ipywidgets.readthedocs.io/en/stable/user_install.html\">Jupyter\n",
       "  Widgets Documentation</a> for setup instructions.\n",
       "</p>\n",
       "<p>\n",
       "  If you're reading this message in another frontend (for example, a static\n",
       "  rendering on GitHub or <a href=\"https://nbviewer.jupyter.org/\">NBViewer</a>),\n",
       "  it may mean that your frontend doesn't currently support widgets.\n",
       "</p>\n"
      ],
      "text/plain": [
       "Button(description=u'Submit!', style=ButtonStyle())"
      ]
     },
     "metadata": {},
     "output_type": "display_data"
    },
    {
     "name": "stdout",
     "output_type": "stream",
     "text": [
      "The suggested emoji is: 😄   "
     ]
    }
   ],
   "source": [
    "text = widgets.Text()\n",
    "submitBtn = widgets.Button(description = \"Submit!\")\n",
    "display(text)\n",
    "display(submitBtn)\n",
    "\n",
    "def handleText(sender):\n",
    "    print text.value\n",
    "    \n",
    "def btnClicked(b):\n",
    "    sys.stdout.write('\\r')\n",
    "    ### Do the processing of text.value here ###\n",
    "    # Bug: adding the extra spaces to avoid the longer string appearance \"age\" \n",
    "    returnedString = \"The suggested emoji is: \" + emoji.emojize(':smile:', use_aliases = True) + \"   \" if text.value else \"Please enter a valid message!\"\n",
    "    # sys.stdout.write(text.value)\n",
    "    sys.stdout.write(returnedString)\n",
    "    \n",
    "    ### Finished processing of text.value ###\n",
    "    sys.stdout.flush()\n",
    "    \n",
    "# text.on_submit(handleText)\n",
    "submitBtn.on_click(btnClicked)"
   ]
  },
  {
   "cell_type": "code",
   "execution_count": 30,
   "metadata": {},
   "outputs": [],
   "source": []
  },
  {
   "cell_type": "code",
   "execution_count": null,
   "metadata": {},
   "outputs": [],
   "source": []
  }
 ],
 "metadata": {
  "kernelspec": {
   "display_name": "Python 2",
   "language": "python",
   "name": "python2"
  },
  "language_info": {
   "codemirror_mode": {
    "name": "ipython",
    "version": 2
   },
   "file_extension": ".py",
   "mimetype": "text/x-python",
   "name": "python",
   "nbconvert_exporter": "python",
   "pygments_lexer": "ipython2",
   "version": "2.7.11"
  }
 },
 "nbformat": 4,
 "nbformat_minor": 2
}
